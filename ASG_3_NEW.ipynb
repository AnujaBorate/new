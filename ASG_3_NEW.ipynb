{
  "nbformat": 4,
  "nbformat_minor": 0,
  "metadata": {
    "colab": {
      "provenance": []
    },
    "kernelspec": {
      "name": "python3",
      "display_name": "Python 3"
    },
    "language_info": {
      "name": "python"
    }
  },
  "cells": [
    {
      "cell_type": "code",
      "execution_count": null,
      "metadata": {
        "id": "-FOzfxyGsDi9"
      },
      "outputs": [],
      "source": [
        "import tensorflow as tf\n",
        "from keras.models import Sequential\n",
        "from keras.layers import Conv2D,MaxPooling2D,Dense,Flatten,Dropout\n",
        "from keras.datasets import mnist\n",
        "import matplotlib.pyplot as plt\n",
        "import numpy as np"
      ]
    },
    {
      "cell_type": "code",
      "source": [
        "#LOAD DATA\n",
        "(x_train,y_train),(x_test,y_test)=mnist.load_data()\n",
        "input_shape=(28,28,1)"
      ],
      "metadata": {
        "colab": {
          "base_uri": "https://localhost:8080/"
        },
        "id": "kLyV1euAs14d",
        "outputId": "5d25b84d-02d6-4296-ebe5-c206d95aa534"
      },
      "execution_count": null,
      "outputs": [
        {
          "output_type": "stream",
          "name": "stdout",
          "text": [
            "Downloading data from https://storage.googleapis.com/tensorflow/tf-keras-datasets/mnist.npz\n",
            "11490434/11490434 [==============================] - 0s 0us/step\n"
          ]
        }
      ]
    },
    {
      "cell_type": "code",
      "source": [
        "x_train=x_train/255\n",
        "x_test=x_test/255\n",
        "print(\"shape of traning :\",x_train.shape)\n",
        "print(\"shape of testing :\",x_test.shape)"
      ],
      "metadata": {
        "colab": {
          "base_uri": "https://localhost:8080/"
        },
        "id": "846ZWgL5tX9H",
        "outputId": "b4d18257-eb3f-4c66-c651-ddafca34b658"
      },
      "execution_count": null,
      "outputs": [
        {
          "output_type": "stream",
          "name": "stdout",
          "text": [
            "shape of traning : (60000, 28, 28)\n",
            "shape of testing : (10000, 28, 28)\n"
          ]
        }
      ]
    },
    {
      "cell_type": "code",
      "source": [
        "from keras.src.backend import dropout\n",
        "# model architecture\n",
        "model=Sequential()\n",
        "model.add(Conv2D(28,kernel_size=(3,3),input_shape=(28,28,1)))\n",
        "model.add(MaxPooling2D(pool_size=(2,2)))\n",
        "model.add(Flatten())\n",
        "model.add(Dense(200,activation=\"relu\"))\n",
        "model.add(Dropout(0.3))\n",
        "model.add(Dense(10,activation=\"softmax\"))\n",
        "model.summary()\n"
      ],
      "metadata": {
        "colab": {
          "base_uri": "https://localhost:8080/"
        },
        "id": "kpthWDczufPg",
        "outputId": "78603671-a401-4606-fbb9-f910b567bfc6"
      },
      "execution_count": null,
      "outputs": [
        {
          "output_type": "stream",
          "name": "stdout",
          "text": [
            "Model: \"sequential_3\"\n",
            "_________________________________________________________________\n",
            " Layer (type)                Output Shape              Param #   \n",
            "=================================================================\n",
            " conv2d_3 (Conv2D)           (None, 26, 26, 28)        280       \n",
            "                                                                 \n",
            " max_pooling2d_2 (MaxPoolin  (None, 13, 13, 28)        0         \n",
            " g2D)                                                            \n",
            "                                                                 \n",
            " flatten_1 (Flatten)         (None, 4732)              0         \n",
            "                                                                 \n",
            " dense_1 (Dense)             (None, 200)               946600    \n",
            "                                                                 \n",
            " dropout (Dropout)           (None, 200)               0         \n",
            "                                                                 \n",
            " dense_2 (Dense)             (None, 10)                2010      \n",
            "                                                                 \n",
            "=================================================================\n",
            "Total params: 948890 (3.62 MB)\n",
            "Trainable params: 948890 (3.62 MB)\n",
            "Non-trainable params: 0 (0.00 Byte)\n",
            "_________________________________________________________________\n"
          ]
        }
      ]
    },
    {
      "cell_type": "code",
      "source": [
        "model.compile(optimizer='SGD',\n",
        "              loss='sparse_categorical_crossentropy',\n",
        "              metrics=['accuracy'])\n",
        "model.fit(x_train,y_train,epochs=2)"
      ],
      "metadata": {
        "colab": {
          "base_uri": "https://localhost:8080/"
        },
        "id": "al1sHneSv8UT",
        "outputId": "7badbcac-1550-4792-db8d-8f27059a1bcc"
      },
      "execution_count": null,
      "outputs": [
        {
          "output_type": "stream",
          "name": "stdout",
          "text": [
            "Epoch 1/3\n",
            "1875/1875 [==============================] - 41s 21ms/step - loss: 0.5270 - accuracy: 0.8497\n",
            "Epoch 2/3\n",
            "1875/1875 [==============================] - 46s 24ms/step - loss: 0.2331 - accuracy: 0.9313\n",
            "Epoch 3/3\n",
            "1875/1875 [==============================] - 53s 28ms/step - loss: 0.1790 - accuracy: 0.9472\n"
          ]
        },
        {
          "output_type": "execute_result",
          "data": {
            "text/plain": [
              "<keras.src.callbacks.History at 0x78c3569aceb0>"
            ]
          },
          "metadata": {},
          "execution_count": 13
        }
      ]
    },
    {
      "cell_type": "code",
      "source": [
        "#estimating model prefromance\n",
        "test_loss,test_acc=model.evaluate(x_test,y_test)\n",
        "print(\"loss=%.3f\" %test_loss)\n",
        "print(\"Accuracy=%.3f\"%test_acc)"
      ],
      "metadata": {
        "colab": {
          "base_uri": "https://localhost:8080/"
        },
        "id": "2dmM3TXIyOQM",
        "outputId": "e8aeeeae-b4a7-4426-ae05-e59c6c18a048"
      },
      "execution_count": null,
      "outputs": [
        {
          "output_type": "stream",
          "name": "stdout",
          "text": [
            "313/313 [==============================] - 2s 7ms/step - loss: 0.1266 - accuracy: 0.9624\n",
            "loss=0.127\n",
            "Accuracy=0.962\n"
          ]
        }
      ]
    },
    {
      "cell_type": "code",
      "source": [
        "import random\n",
        "n=random.randint(0,9999)\n",
        "plt.imshow(x_train[n])\n",
        "plt.show()\n",
        "predicted_value=model.predict(x_train)\n",
        "print(\"Handwritten number in the image is= %d\" %np.argmax(predicted_value[n]))"
      ],
      "metadata": {
        "colab": {
          "base_uri": "https://localhost:8080/",
          "height": 465
        },
        "id": "iLFxqjSEukDi",
        "outputId": "1ede9adf-0c86-4f1f-f506-52abf489e7d3"
      },
      "execution_count": null,
      "outputs": [
        {
          "output_type": "display_data",
          "data": {
            "text/plain": [
              "<Figure size 640x480 with 1 Axes>"
            ],
            "image/png": "[encoded data removed]"
          },
          "metadata": {}
        },
        {
          "output_type": "stream",
          "name": "stdout",
          "text": [
            "1875/1875 [==============================] - 15s 8ms/step\n",
            "Handwritten number in the image is= 4\n"
          ]
        }
      ]
    },
    {
      "cell_type": "code",
      "source": [
        "plt.imshow(x_test[n])\n",
        "plt.show()\n",
        "predicted_value=model.predict(x_test)\n",
        "print(\"Handwritten number in the image is= %d\" %np.argmax(predicted_value[n]))"
      ],
      "metadata": {
        "colab": {
          "base_uri": "https://localhost:8080/",
          "height": 465
        },
        "id": "ZbDb8d983EK3",
        "outputId": "4495e23b-bda2-4f2f-98b9-67d8ee347546"
      },
      "execution_count": null,
      "outputs": [
        {
          "output_type": "display_data",
          "data": {
            "text/plain": [
              "<Figure size 640x480 with 1 Axes>"
            ],
            "image/png": "[encoded data removed]"
          },
          "metadata": {}
        },
        {
          "output_type": "stream",
          "name": "stdout",
          "text": [
            "313/313 [==============================] - 3s 10ms/step\n",
            "Handwritten number in the image is= 4\n"
          ]
        }
      ]
    },
    {
      "cell_type": "code",
      "source": [],
      "metadata": {
        "id": "I2y6wZTIynmd"
      },
      "execution_count": null,
      "outputs": []
    }
  ]
}